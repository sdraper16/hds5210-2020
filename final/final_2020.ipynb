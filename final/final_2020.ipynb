{
 "cells": [
  {
   "cell_type": "markdown",
   "metadata": {
    "nbgrader": {
     "grade": false,
     "grade_id": "introduction",
     "locked": true,
     "schema_version": 1,
     "solution": false
    }
   },
   "source": [
    "# HDS5210 Final\n",
    "\n",
    "This final examination is similar in scale to the midterm from several weeks ago, but covers the scope of the entire semester.  The final also attempts to create a real-world scenario that you might encounter as a data scientist is the field.  Our goal with this final is to compile the data required to be able to understand any possible relationship between population, population density, and the spread of the COVID-19 coronavirus.  As in may real world cases, all of the data you need to do this analysis is not in one place, nicely formatted and compiled for you.  Through the final, you'll collect data from multiple sources and build your analytic dataset in a process that is documented, automated, and reproducable.\n",
    "\n",
    "<img style='float:right' width='480px' src='https://www.lucidchart.com/publicSegments/view/095390af-7150-4dae-ac06-b98f10463cc7/image.png'>\n",
    "\n",
    "The data you need for this final is all publicly available and real data.  The three data sources that you are reuquired to use are described in the list below and in the relationship diagram to the right.\n",
    "\n",
    "* **Corona Virus Testing and Death Reports** - A MySQL database table that I loaded data into from the JSON file below.\n",
    "\n",
    " `https://coronadatascraper.com/timeseries.json`\n",
    "\n",
    " `corona_counts`\n",
    " \n",
    "* **Location Metadata** -- A JSON file from the Corona Data Scrapper project that has a mapping of location identifiers to the location information.\n",
    "\n",
    " `https://coronadatascraper.com/locations.json`\n",
    "\n",
    "* **Census Information** - Information available on Wikipedia about the population and geographic size of the counties in Missouri. \n",
    "\n",
    " `https://en.wikipedia.org/wiki/List_of_counties_in_Missouri`\n",
    "\n",
    "*Note that ALL of the data above is real data.  We'll be doing some analysis that is not necessarily standard for epidemiological studies, but should be interesting nonetheless.*\n",
    "\n",
    "You will be asked to solve a number of different problems using this data.  As in previous assignments, there will be `assert()` statements to help you validate your work along the way.  We'll try to use old enough data so that the numbers shouldn't be changing, but it's possible that some of the data we use will be restated.\n"
   ]
  },
  {
   "cell_type": "code",
   "execution_count": 2,
   "metadata": {},
   "outputs": [],
   "source": [
    "CORONA_COUNTS = 'corona_counts'\n",
    "LOCATION_INFO = 'https://coronadatascraper.com/locations.json'\n",
    "CENSUS_INFO = 'https://en.wikipedia.org/wiki/List_of_counties_in_Missouri'"
   ]
  },
  {
   "cell_type": "markdown",
   "metadata": {},
   "source": [
    "# PART 1 - Get information about Missouri Counties\n",
    "\n",
    "The **Corona Virus Testing and Death Reports** data is all in one place thanks to the work of the Corona Data Scraper project.  However, the data uses its own internal coding system to number the locations and the only reference data they have simply links those locations to [FIPS](https://en.wikipedia.org/wiki/FIPS_county_code) codes for US Counties.  Not very helpful.\n",
    "\n",
    "Therefore, our first step will be to find somewhere that lists the FIPS code for every county in Missouri.  Thank you Wikipedia!  In fact, not only does our source have a mapping from FIPS code to county name, but it also has the population and physical area data that we also want.  So, let's start by retrieving that data from the HTML table on the [\"List of counties in Missouri\"](https://en.wikipedia.org/wiki/List_of_counties_in_Missouri) page.\n",
    "\n",
    "Create a function named `get_mo_counties()` that pulls the information from this table and returns a dictionary keyed off the FIPS code and contains an entry for each of the attributes in the table.  Keep at least the elements we need: FIPS code, County, Population, Area as shown in the example below:\n",
    "\n",
    "```\n",
    "{ '001':\n",
    "  { 'county': 'Adair County',\n",
    "    'population': 25607,\n",
    "    'area': 568\n",
    "  },\n",
    "  '002':\n",
    "  { 'county': 'Andrew County',\n",
    "    'population': 17291,\n",
    "    'area': 435\n",
    "  },\n",
    "...\n",
    "```"
   ]
  },
  {
   "cell_type": "markdown",
   "metadata": {},
   "source": [
    "### TIPS\n",
    "\n",
    "1. If you want to take a number and format it with leading 0s, this works: `\"{:03d}\".format(1)`\n",
    "\n",
    "2. The Area column in this table uses a \"non-breaking space\" character between the number part and the \"sq mi\" part.  This is different than just the space bar.  If you want to tell Python to look for a non-breaking space, you can type `\\xa0`"
   ]
  },
  {
   "cell_type": "code",
   "execution_count": 53,
   "metadata": {},
   "outputs": [],
   "source": [
    "import pandas as pd\n",
    "\n",
    "def get_mo_counties(url=CENSUS_INFO):\n",
    "    \n",
    "    output = {}\n",
    "    \n",
    "import requests\n",
    "import json\n",
    "from bs4 import BeautifulSoup\n",
    "\n",
    "def get_mo_counties(url=CENSUS_INFO):\n",
    "    r = requests.get(url)\n",
    "    soup = BeautifulSoup(r.text)\n",
    "    table = soup.findAll(\"table\", class_ = \"wikitable\")[0]\n",
    "    output = {}\n",
    "    rownum = 0\n",
    "    for row in table.tbody.find_all('tr'):\n",
    "        if rownum==0:\n",
    "            rownum+=1\n",
    "            continue\n",
    "        rownum+=1\n",
    "        county = row.find('th').text.strip()\n",
    "        cells =  row.find_all('td')\n",
    "        population = int(cells[-3].text.strip().replace(\",\", \"\"))\n",
    "        area = float(cells[-2].text.split()[0].replace(\",\", \"\"))\n",
    "        fips_code = cells[0].text.strip()\n",
    "        output[fips_code] = dict()\n",
    "        output[fips_code]['county'] = county\n",
    "        output[fips_code]['population'] = population\n",
    "        output[fips_code]['area'] = area\n",
    "    return output\n",
    "    \n",
    "    for keys,values in output.items():\n",
    "        print(keys)\n",
    "        print(values)\n",
    "\n",
    "# I couldn't get any of my dictionaries to print, I'm not sure what I'm doing wrong there\n",
    "# I tried a bunch of different methods, but nothing was working\n"
   ]
  },
  {
   "cell_type": "code",
   "execution_count": 54,
   "metadata": {},
   "outputs": [],
   "source": [
    "mo_counties = get_mo_counties()\n",
    "assert(len(mo_counties) == 115)\n",
    "assert(mo_counties.get('001').get('county') == 'Adair County')\n",
    "assert(mo_counties.get('007').get('population') == 25529)\n",
    "assert(mo_counties.get('011').get('area') == 594)"
   ]
  },
  {
   "cell_type": "markdown",
   "metadata": {},
   "source": [
    "# PART 2 - Create a List of Missouri Counties from the Corona Data Scraper Locations File\n",
    "\n",
    "Browse the **Location Metadata** JSON file on the website and you'll see that it is a list that contains a dictionary object for each of the locations for which this website has data.  Create a Python function called `get_mo_locations()` to read that JSON file from the URL provided above and transform that JSON into a simple dictionary that has only those locations that are in Missouri.  We're going to use this dictionary to filter the actual testing and death data file during the next step.  For the structure of that dictionary, it will be most useful if you has the position of the original list entry as the dictionary key and the county's FIPS code as the dictionary value.  The reason for this is that the location identifier in the testing and death data file is the index position for the appropriate location metadata in this file.\n",
    "\n",
    "You'll notice that the FIPS code from this file includes a 2-digit prefix that has the state code of `29` on it.  You'll need to remove that and only keep the last three characters of the FIPS code so that it matches the three digit FIPS code from the Wikipedia page above.\n",
    "\n",
    "The output returned from your `get_mo_locations()` function should look like the sample below and ONLY contain **the counties from Missouri**.\n",
    "\n",
    "```\n",
    "{1901: '001',\n",
    " 1902: '003',\n",
    " 1903: '005',\n",
    " 1904: '007',\n",
    " 1905: '009',\n",
    " 1906: '011',\n",
    "...\n",
    "```\n"
   ]
  },
  {
   "cell_type": "code",
   "execution_count": 48,
   "metadata": {},
   "outputs": [],
   "source": [
    "import pandas as pd\n",
    "import requests\n",
    "import json\n",
    "\n",
    "def get_mo_locations(url=LOCATION_INFO):\n",
    "    \n",
    "    output = {}\n",
    "    \n",
    "    r = requests.get(url)\n",
    "    missouri = dict()\n",
    "    start = 1901\n",
    "    output = json.loads(r.text)\n",
    "    for obj in output:\n",
    "        try:\n",
    "            if obj['country'] == 'United States' and obj['state'] == 'Missouri':\n",
    "                missouri[start] = obj['countyId'][-3:]\n",
    "                start+=1\n",
    "        except:\n",
    "            pass\n",
    "    return missouri\n",
    "\n",
    "    return output"
   ]
  },
  {
   "cell_type": "code",
   "execution_count": 49,
   "metadata": {},
   "outputs": [],
   "source": [
    "mo_locations = get_mo_locations()\n",
    "assert(len(mo_locations) == 115)\n",
    "assert(mo_locations.get(1901) == '001')"
   ]
  },
  {
   "cell_type": "markdown",
   "metadata": {},
   "source": [
    "# PART 3 - Corona Virus Cases for Missouri Counties\n",
    "\n",
    "Next, we're going to use the data available in the **Corona Virus Testing and Death Reports** data in the MySQL **corona_counts** table.  This data will need to be filtered down to only contain the information for Missouri Counties.\n",
    "\n",
    "Create a function called `get_corona_counts()` that retrieves retrieves information from the same MySQL database we used before.  I've provided the connection information for your convenience.  Your function will need to make the database connect and retrieve the data from the **corona_counts** table.  It should use the output from the `get_mo_locations()` function to filter the information in the table and return a dataframe with only the data for Missouri counties."
   ]
  },
  {
   "cell_type": "code",
   "execution_count": 9,
   "metadata": {},
   "outputs": [],
   "source": [
    "# Then, this code will automatically setup your \n",
    "import os\n",
    "from sqlalchemy import create_engine\n",
    "import pandas as pd\n",
    "\n",
    "host = 'slucor2020.cgdcoitnku0k.us-east-1.rds.amazonaws.com'\n",
    "port = '3306'\n",
    "user = 'slucor2020'\n",
    "password = 'SLUcor2020'\n",
    "database = 'hds5210'\n",
    "\n",
    "conn = create_engine('mysql+pymysql://' + \n",
    "                     user + ':' + \n",
    "                     password + '@' + \n",
    "                     host + ':' + \n",
    "                     str(port) + '/' + \n",
    "                     database)"
   ]
  },
  {
   "cell_type": "code",
   "execution_count": 10,
   "metadata": {},
   "outputs": [],
   "source": [
    "def get_corona_counts(locations, conn, table=CORONA_COUNTS):\n",
    "\n",
    "    output = pd.DataFrame()\n",
    "    \n",
    "    output = pd.read_sql_query(\"SELECT * FROM \"+table, conn)\n",
    "    output = output[output['location'].isin(list(locations.keys()))]\n",
    "    ### YOUR CODE\n",
    "        \n",
    "    return output"
   ]
  },
  {
   "cell_type": "code",
   "execution_count": 11,
   "metadata": {},
   "outputs": [],
   "source": [
    "mo_corona = get_corona_counts(get_mo_locations(), conn)\n",
    "assert(mo_corona['dt'].value_counts().mean() == 115)\n",
    "assert(mo_corona['location'].value_counts().mean() == 100)\n",
    "assert('dt' in mo_corona.columns)\n",
    "assert('location' in mo_corona.columns)\n",
    "assert('cases' in mo_corona.columns)"
   ]
  },
  {
   "cell_type": "markdown",
   "metadata": {
    "nbgrader": {
     "grade": false,
     "grade_id": "01-intro",
     "locked": true,
     "schema_version": 1,
     "solution": false
    }
   },
   "source": [
    "## PART 4 - Calculate Doubling Time between 3/1 and 3/31\n",
    "\n",
    "The next step in our process is to calculate the doubling time for each county.  [Doubling time](https://en.wikipedia.org/wiki/Doubling_time) is calculated by computing:\n",
    "\n",
    "```\n",
    "doubling_time = ln(2) / growth_rate\n",
    "```\n",
    "\n",
    "where growth rate is calculated by:\n",
    "\n",
    "```\n",
    "growth_rate = ln(N(t) / N(0)) / t\n",
    "\n",
    "N(t) = number at time t\n",
    "N(0) = number at start time\n",
    "t    = number of time units (we'll use days)\n",
    "```\n",
    "\n",
    "In this part, you should create a function called `calc_doubling_rate()` that takes the dataframe output from your `get_corona_counts()` function and returns four Series (columns): location, cases on start date, cases on end date, and the doubling rate calculated based start and end date that you provide.  You can assume start and end date are strings in the format YYYY-MM-DD.\n",
    "\n",
    "Special rules:\n",
    "* If the count at the start or the end is 0 then the doubling_time should be NaN\n",
    "* If the count on the end date is less than the count on the start date, then the doubling_time should be NaN\n",
    "\n",
    "Once we have a data frame with only one row per county, we can merge that in with the census information from step 1 and start looking at some relationships.\n",
    "\n"
   ]
  },
  {
   "cell_type": "markdown",
   "metadata": {},
   "source": [
    "### TIPS\n",
    "\n",
    "1. You'll need to calculate some natural logs as shown above.  The way to do that with Pandas requires **`import numpy as np`** and then something like **`np.log2(df['cases'])`**\n",
    "\n",
    "2. The right way to overwrite some of the rows under a particular column is by using he df.loc(row_indexer, col_indexer) syntax.  For instance, if you have a filter called `my_filter`, then updating the doubling_time column would look like this:  `output.loc[my_filter, 'my_column'] = np.nan`"
   ]
  },
  {
   "cell_type": "code",
   "execution_count": 12,
   "metadata": {},
   "outputs": [],
   "source": [
    "import numpy as np\n",
    "\n",
    "def calc_doubling_rate(df, start='2020-04-01', end='2020-04-20'):    \n",
    "    \n",
    "    output = pd.DataFrame()\n",
    "    \n",
    "    output = pd.DataFrame(columns=[\"location\", \"start\", \"end\", \"doubling_time\"])\n",
    "    ids = df[\"location\"].unique()\n",
    "    df['log_cases'] = np.log(df['cases'])\n",
    "    for id in ids:\n",
    "        st = (df['dt']==start) & (df['location'] == id)\n",
    "        ed = (df['dt'] == end) & (df['location'] == id)\n",
    "        sv = df[st]['cases'].values[0]\n",
    "        ev = df[ed]['cases'].values[0]\n",
    "        sv_log = df[st]['log_cases'].values[0]\n",
    "        ev_log = df[ed]['log_cases'].values[0]\n",
    "        if sv==0 or ev==0:\n",
    "            dt = np.nan\n",
    "        else:\n",
    "            dt = (ev_log - sv_log)/30\n",
    "            if dt<=0:\n",
    "                dt = np.nan\n",
    "            else:\n",
    "                dt = np.log(2)/dt\n",
    "        output.loc[id] = [id, df[st]['cases'].values[0], df[ed]['cases'].values[0], dt]\n",
    "\n",
    "    return output\n",
    "\n",
    "\n"
   ]
  },
  {
   "cell_type": "code",
   "execution_count": 13,
   "metadata": {},
   "outputs": [
    {
     "name": "stderr",
     "output_type": "stream",
     "text": [
      "/opt/tljh/user/lib/python3.6/site-packages/pandas/core/series.py:856: RuntimeWarning: divide by zero encountered in log\n",
      "  result = getattr(ufunc, method)(*inputs, **kwargs)\n"
     ]
    }
   ],
   "source": [
    "mo_doubling = calc_doubling_rate(mo_corona)\n",
    "assert(len(mo_doubling) == 115)\n",
    "assert(round(mo_doubling['start'].mean(),2) == 13.73)\n",
    "assert(round(mo_doubling['end'].mean(),2) == 50.48)\n",
    "assert(round(mo_doubling['doubling_time'].min(),2) == 6.54)"
   ]
  },
  {
   "cell_type": "markdown",
   "metadata": {},
   "source": [
    "# Part 5 - Merge the Census and Corona Data\n",
    "\n",
    "In this step, we'll finally get our corona virus data merged with the location data and then the census data so that we can compare doubling time and population or population density.  To do this, write a function called `merge_corona_census()` that does the merge and returns a single data frame with all of the columns as output.\n",
    "\n",
    "You will also need to calculate the population density for each as the ration of the population to the area:\n",
    "```\n",
    "  density = population / area\n",
    "```"
   ]
  },
  {
   "cell_type": "code",
   "execution_count": 59,
   "metadata": {},
   "outputs": [],
   "source": [
    "def merge_corona_census(corona, locations, census):\n",
    "    \n",
    "    output = pd.DataFrame()\n",
    "\n",
    "    output = corona.copy()\n",
    "    fips = locations.values()\n",
    "    loc = locations.keys()\n",
    "    counties = []\n",
    "    population = []\n",
    "    area = []\n",
    "    for x in locations:\n",
    "        y = locations[x]\n",
    "        counties.append(census[y]['county'])\n",
    "        population.append(census[y]['population'])\n",
    "        area.append(census[y]['area'])\n",
    "    output['population'] = population\n",
    "    output['county'] = counties\n",
    "    output['fips'] = fips\n",
    "    output['area'] = area\n",
    "    output['density'] = output['population']/output['area']\n",
    "    \n",
    "    return output"
   ]
  },
  {
   "cell_type": "code",
   "execution_count": 60,
   "metadata": {},
   "outputs": [],
   "source": [
    "results = merge_corona_census(mo_doubling, mo_locations, mo_counties)\n",
    "assert(len(results) == 115)\n",
    "assert(round(results['density'].mean(),2) == 131.71)"
   ]
  },
  {
   "cell_type": "markdown",
   "metadata": {},
   "source": [
    "# Part 6 Observations\n",
    "\n",
    "Below, I've provided some code to plot data from your results above.  This assumes that your results include the following columns:\n",
    "* population\n",
    "* density\n",
    "* doubling_time\n",
    "\n",
    "\n",
    "Take a few minutes and share your observations about the pattern or lack of pattern in the relationship between density, population, and doubling_time.  Put your comments in the text cell below."
   ]
  },
  {
   "cell_type": "markdown",
   "metadata": {},
   "source": [
    "---\n",
    "\n",
    "### Your Response\n",
    "\n",
    "The plots show that generally, doubling time is going to be shorter in areas with a smaller population and a lower population density.  This makes sense because it takes less time for 100,00 to become 200,000 than for 1 million to become 2 million, for example.  There are a few extreme outliers for all of the plots which is interesting.  The population vs density plot was predictible showing that in general, the smaller to population, the lower the density, but there were also a few outliers here.\n",
    "\n",
    "---"
   ]
  },
  {
   "cell_type": "code",
   "execution_count": 50,
   "metadata": {},
   "outputs": [
    {
     "data": {
      "text/plain": [
       "<matplotlib.axes._subplots.AxesSubplot at 0x7f6a4ea48630>"
      ]
     },
     "execution_count": 50,
     "metadata": {},
     "output_type": "execute_result"
    },
    {
     "data": {
      "image/png": "[encoded data removed]",
      "text/plain": [
       "<Figure size 432x288 with 1 Axes>"
      ]
     },
     "metadata": {
      "needs_background": "light"
     },
     "output_type": "display_data"
    }
   ],
   "source": [
    "results.plot.scatter(x='population', y='density')"
   ]
  },
  {
   "cell_type": "code",
   "execution_count": 317,
   "metadata": {},
   "outputs": [
    {
     "data": {
      "text/plain": [
       "<matplotlib.axes._subplots.AxesSubplot at 0x7fe1eae50c18>"
      ]
     },
     "execution_count": 317,
     "metadata": {},
     "output_type": "execute_result"
    },
    {
     "data": {
      "image/png": "[encoded data removed]",
      "text/plain": [
       "<Figure size 432x288 with 1 Axes>"
      ]
     },
     "metadata": {
      "needs_background": "light"
     },
     "output_type": "display_data"
    }
   ],
   "source": [
    "results.plot.scatter(x='density', y='doubling_time')"
   ]
  },
  {
   "cell_type": "code",
   "execution_count": 318,
   "metadata": {},
   "outputs": [
    {
     "data": {
      "text/plain": [
       "<matplotlib.axes._subplots.AxesSubplot at 0x7fe1ee592cf8>"
      ]
     },
     "execution_count": 318,
     "metadata": {},
     "output_type": "execute_result"
    },
    {
     "data": {
      "image/png": "[encoded data removed]",
      "text/plain": [
       "<Figure size 432x288 with 1 Axes>"
      ]
     },
     "metadata": {
      "needs_background": "light"
     },
     "output_type": "display_data"
    }
   ],
   "source": [
    "results.plot.scatter(x='population', y='doubling_time')"
   ]
  },
  {
   "cell_type": "code",
   "execution_count": 319,
   "metadata": {},
   "outputs": [],
   "source": [
    "import seaborn as sns"
   ]
  },
  {
   "cell_type": "code",
   "execution_count": 320,
   "metadata": {},
   "outputs": [
    {
     "data": {
      "text/plain": [
       "[None]"
      ]
     },
     "execution_count": 320,
     "metadata": {},
     "output_type": "execute_result"
    },
    {
     "data": {
      "image/png": "[encoded data removed]",
      "text/plain": [
       "<Figure size 432x288 with 1 Axes>"
      ]
     },
     "metadata": {
      "needs_background": "light"
     },
     "output_type": "display_data"
    }
   ],
   "source": [
    "ax = sns.scatterplot(x=\"density\", y=\"doubling_time\",\n",
    "                     hue=\"density\", size=\"population\",\n",
    "                     data=results)\n",
    "\n",
    "ax.set(xscale='log')"
   ]
  },
  {
   "cell_type": "code",
   "execution_count": null,
   "metadata": {},
   "outputs": [],
   "source": []
  }
 ],
 "metadata": {
  "celltoolbar": "Create Assignment",
  "kernelspec": {
   "display_name": "Python 3",
   "language": "python",
   "name": "python3"
  },
  "language_info": {
   "codemirror_mode": {
    "name": "ipython",
    "version": 3
   },
   "file_extension": ".py",
   "mimetype": "text/x-python",
   "name": "python",
   "nbconvert_exporter": "python",
   "pygments_lexer": "ipython3",
   "version": "3.6.7"
  }
 },
 "nbformat": 4,
 "nbformat_minor": 2
}
