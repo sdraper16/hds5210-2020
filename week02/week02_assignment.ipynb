{
 "cells": [
  {
   "cell_type": "markdown",
   "metadata": {
    "nbgrader": {
     "grade": false,
     "grade_id": "intro",
     "locked": true,
     "schema_version": 1,
     "solution": false
    }
   },
   "source": [
    "# Week 2 Exercises\n",
    "\n",
    "_McKinney 2.3_\n",
    "\n",
    "**All of our homework will be structured a specific way to make it easier to verify for yourself that you're on the right track as well as easier for me to do a first pass on automated grading.  The structure of each question will require you to write a function using Python code.  Below each question are some tests (`assertions`) that verify your code is working correctly.  If any assertions fail, you know that something isnt' right with your code.**\n",
    "\n",
    "**For now, please don't change any function names**"
   ]
  },
  {
   "cell_type": "markdown",
   "metadata": {},
   "source": [
    "## Part 1: Multiple Choice\n",
    "\n",
    "For the multiple choice questions below, type in the letter of the best answer where indicated.  Contrary to the note above, this section won't tell you if you have the correct answers or not immediately."
   ]
  },
  {
   "cell_type": "markdown",
   "metadata": {},
   "source": [
    "### 1.1 Code Blocks\n",
    "\n",
    "Why is some code in Python indented from other lines of code?\n",
    "> A) To specify that line of code should only be executed if the previous line is True\n",
    ">\n",
    "> B) The programmer can choose when to indent code to make it easier to read\n",
    ">\n",
    "> C) To block code apart to designate it should only be executed at certain times\n",
    ">\n",
    "> D) Indented lines are treated like comments and not executed"
   ]
  },
  {
   "cell_type": "code",
   "execution_count": 113,
   "metadata": {},
   "outputs": [],
   "source": [
    "answer11 = \"C\""
   ]
  },
  {
   "cell_type": "markdown",
   "metadata": {},
   "source": [
    "### 1.2 Python Versions\n",
    "\n",
    "Which statements about Python 2 and Python 3 are true?\n",
    "> A) Python version 2 and version 3 have completely compatible syntax\n",
    ">\n",
    "> B) Any code that runs in Python version 3 will run in version 2\n",
    "> \n",
    "> C) Python version 3 and version 2 packages are compatible\n",
    "> \n",
    "> D) Python version 2 and version 3 have some differences, but are mostly the same"
   ]
  },
  {
   "cell_type": "code",
   "execution_count": 114,
   "metadata": {},
   "outputs": [],
   "source": [
    "answer12 = \"D\""
   ]
  },
  {
   "cell_type": "markdown",
   "metadata": {},
   "source": [
    "## 1.3 Python Syntax\n",
    "\n",
    "Which other common programming languages does Python look like?\n",
    "> A) C++\n",
    ">\n",
    "> B) Java\n",
    "> \n",
    "> C) JavaScript\n",
    ">\n",
    "> D) None of these"
   ]
  },
  {
   "cell_type": "code",
   "execution_count": 115,
   "metadata": {},
   "outputs": [],
   "source": [
    "answer13 = \"B\""
   ]
  },
  {
   "cell_type": "markdown",
   "metadata": {},
   "source": [
    "### 2.1 Variables\n",
    "In the scenario below, which statments about the variables `a` and `b` are true.\n",
    "```\n",
    "a = [1, 2, 3]\n",
    "b = a\n",
    "```\n",
    "\n",
    "> A) `a` is a list and `b` is a reference to another variables\n",
    "> \n",
    "> B) `a` and `b` both refer to a list that has three elements\n",
    "> \n",
    "> C) `b` is a copy of `a`\n",
    ">\n",
    "> D) `b` refers to `a` which refers to a list with three elements\n"
   ]
  },
  {
   "cell_type": "code",
   "execution_count": 116,
   "metadata": {},
   "outputs": [],
   "source": [
    "answer21 = \"B\""
   ]
  },
  {
   "cell_type": "markdown",
   "metadata": {},
   "source": [
    "### 2.2 Variable Names\n",
    "\n",
    "Which of the following is **NOT** true about how you should name variables?\n",
    "\n",
    "> A) Variable names should be as short as possible\n",
    "> \n",
    "> B) Variable names can use abbreviations\n",
    ">\n",
    "> C) Variable names should be readable by humans\n",
    ">\n",
    "> D) Variable names represent a kind of documentation"
   ]
  },
  {
   "cell_type": "code",
   "execution_count": 117,
   "metadata": {},
   "outputs": [],
   "source": [
    "answer22 = \"D\""
   ]
  },
  {
   "cell_type": "markdown",
   "metadata": {},
   "source": [
    "### 2.3 Why Use Variables\n",
    "\n",
    "Based on the purpose and best practices for using variables in Python, which of the following lines of code represents the best use of variables?  The code in the example below is used to convert degrees Farenheit to degress Celsius.\n",
    "\n",
    "> A) `v2 = (v1 - 32) * 5/9`\n",
    ">\n",
    "> D) `temp_c = (temp_f - 32) * 5/9`\n",
    ">\n",
    "> B) `tempcelsius = (tempfarenheit - 32) * 5/9`\n",
    ">\n",
    "> C) `temp-celsius = (temp-farenheight - 32) * 5/9`"
   ]
  },
  {
   "cell_type": "code",
   "execution_count": 118,
   "metadata": {},
   "outputs": [],
   "source": [
    "answer23 = \"D\""
   ]
  },
  {
   "cell_type": "markdown",
   "metadata": {},
   "source": [
    "### 3.1 Built-in Types\n",
    "\n",
    "Which of the following are NOT standard built-in data types in Python.  Put your answer inside brackets as shown here: `answer = [\"X\", \"Y\", \"Z\"]` \n",
    "\n",
    "> A) bool\n",
    ">\n",
    "> B) datetime\n",
    ">\n",
    "> C) decimal\n",
    ">\n",
    "> D) float\n",
    ">\n",
    "> E) int\n",
    ">\n",
    "> F) timestamp\n",
    ">\n",
    "> G) None\n"
   ]
  },
  {
   "cell_type": "code",
   "execution_count": 119,
   "metadata": {},
   "outputs": [],
   "source": [
    "answer31 = [\"B\",\"C\",\"F\"]"
   ]
  },
  {
   "cell_type": "markdown",
   "metadata": {},
   "source": [
    "### 3.2 Strings\n",
    "\n",
    "Which is the proper way to create a multi-line string in a Python program?\n",
    "\n",
    "> A) Place `#` characters at the beginning of each line of the string\n",
    ">\n",
    "> B) Start the string with a `'` or `\"` and then indent all of the subsquent lines until you place a `'` or `\"` at the end of the multi-line string\n",
    ">\n",
    "> C) Place triple-quotes (`'''` or `\"\"\"`) on the first line and last line of the multi-line string\n",
    ">\n",
    "> D) You can't create multi-line strings in Python"
   ]
  },
  {
   "cell_type": "code",
   "execution_count": 120,
   "metadata": {},
   "outputs": [],
   "source": [
    "answer32 = \"C\""
   ]
  },
  {
   "cell_type": "markdown",
   "metadata": {},
   "source": [
    "### 3.3 Combining Data\n",
    "\n",
    "Which of the following is not a valid operation?\n",
    "\n",
    "> A) `'This is a ' + \"complete sentence.\"`\n",
    ">\n",
    "> B) `'She is ' + 93 + ' years old.'`\n",
    ">\n",
    "> C) `\"Repeat this! \" * 4`\n",
    ">\n",
    "> D) `3.14 * 7`"
   ]
  },
  {
   "cell_type": "code",
   "execution_count": 121,
   "metadata": {},
   "outputs": [],
   "source": [
    "answer33 = \"B\""
   ]
  },
  {
   "cell_type": "markdown",
   "metadata": {},
   "source": [
    "### 4.1 Math\n",
    "\n",
    "What will be the output of the following lines of code?  (Yes, I know that you can easily copy and paste this into another notebook and run it.  Please try to reason through it!)\n",
    "\n",
    "```python\n",
    "temp_c = 100\n",
    "temp_f = temp_c * 9//5 + 32\n",
    "temp_f\n",
    "```\n",
    "\n",
    "> A) 212\n",
    ">\n",
    "> B) 132\n",
    ">\n",
    "> C) 32\n",
    "> \n",
    "> D) 98.6"
   ]
  },
  {
   "cell_type": "code",
   "execution_count": 122,
   "metadata": {},
   "outputs": [],
   "source": [
    "answer41 = \"A\""
   ]
  },
  {
   "cell_type": "markdown",
   "metadata": {},
   "source": [
    "Which code represents the proper way to represent the mathematical expression $pi^2$ ?\n",
    "\n",
    "> A) `pi^2`\n",
    ">\n",
    "> B) `pi x pi`\n",
    ">\n",
    "> C) `pi ** 2`\n",
    ">\n",
    "> D| `pi | 2`"
   ]
  },
  {
   "cell_type": "code",
   "execution_count": 123,
   "metadata": {},
   "outputs": [],
   "source": [
    "answer42 = \"C\""
   ]
  },
  {
   "cell_type": "markdown",
   "metadata": {
    "nbgrader": {
     "grade": false,
     "grade_id": "average",
     "locked": true,
     "schema_version": 1,
     "solution": false
    }
   },
   "source": [
    "### 5.1 Averaging three numbers\n",
    "\n",
    "Image that you've got a series of body temperature measurements and we want to find the average of three of them.  Write code below that computes the average of three numbers represented by the variables `temp1`, `temp2`, `temp3` and assigns the result to the variables `avg_temp`."
   ]
  },
  {
   "cell_type": "code",
   "execution_count": 124,
   "metadata": {
    "nbgrader": {
     "grade": false,
     "grade_id": "average-answer",
     "locked": false,
     "schema_version": 1,
     "solution": true
    }
   },
   "outputs": [],
   "source": [
    "def average_temp(temp1, temp2, temp3):\n",
    "    \n",
    "    ### BEGIN SOLUTION\n",
    "    avg_temp=(temp1+temp2+temp3)/3\n",
    "    ### END SOLUTION\n",
    "    \n",
    "    return avg_temp"
   ]
  },
  {
   "cell_type": "markdown",
   "metadata": {
    "nbgrader": {
     "grade": false,
     "grade_id": "average-validate",
     "locked": true,
     "schema_version": 1,
     "solution": false
    }
   },
   "source": [
    "Your function should return 98 if you give it inputs of 96, 99, 99.  Check to see that it does by typeing `average_temp(96, 99, 101)` in the cell below and running it."
   ]
  },
  {
   "cell_type": "code",
   "execution_count": 125,
   "metadata": {},
   "outputs": [
    {
     "data": {
      "text/plain": [
       "98.66666666666667"
      ]
     },
     "execution_count": 125,
     "metadata": {},
     "output_type": "execute_result"
    }
   ],
   "source": [
    "average_temp(96, 99, 101)"
   ]
  },
  {
   "cell_type": "code",
   "execution_count": 126,
   "metadata": {
    "nbgrader": {
     "grade": true,
     "grade_id": "average-tests",
     "locked": true,
     "points": 5,
     "schema_version": 1,
     "solution": false
    }
   },
   "outputs": [],
   "source": [
    "assert average_temp(96, 99, 99) == 98\n",
    "assert average_temp(0, 0, 0) == 0\n",
    "assert average_temp(100, -100, 0) == 0\n",
    "assert average_temp(96, 98, 100) == 98\n",
    "assert average_temp(96.5, 98.5, 100.5) == 98.5\n",
    "assert average_temp(96, 98, 99) == (293 / 3)"
   ]
  },
  {
   "cell_type": "markdown",
   "metadata": {
    "nbgrader": {
     "grade": false,
     "grade_id": "bmi",
     "locked": true,
     "schema_version": 1,
     "solution": false
    }
   },
   "source": [
    "### 5.2 Calculation\n",
    "\n",
    "Create new names for the variables that you need in the code framework below and use the variables to compute the corresponding body mass index (BMI). You can use any meaningful variable names you like. When you compute the BMI, assign a variable to it, and then print the result to the notebook's output.\n",
    "\n",
    "* Weght in kilograms is 90.7\n",
    "* Height in centimeters in 182\n",
    "\n",
    "Note that a simple BMI calculation is weight in kilograms divided by the square of height in meters.\n",
    "\n",
    "For this problem, you'll be graded both on proper calculation as well as on programming style and appropriate variables names.\n",
    "\n",
    "_Also note that BMI should not be considered a universal measure of health or fitness. A health BMI can vary greatly depending on many other fitness conditions and body types."
   ]
  },
  {
   "cell_type": "code",
   "execution_count": 127,
   "metadata": {
    "nbgrader": {
     "grade": false,
     "grade_id": "bmi-answer",
     "locked": false,
     "schema_version": 1,
     "solution": true
    }
   },
   "outputs": [],
   "source": [
    "def bmi(weight_kg, height_cm):\n",
    "    \n",
    "    # 1. Change the names of parameter1 and parameter2 to be something more meaningful\n",
    "    # 2. Change the name of the return variable below\n",
    "    \n",
    "    ### BEGIN SOLUTION\n",
    "    BMI = weight_kg/(((height_cm / 100)**2))\n",
    "    ### END SOLUTION\n",
    "    \n",
    "    return BMI\n"
   ]
  },
  {
   "cell_type": "markdown",
   "metadata": {
    "nbgrader": {
     "grade": false,
     "grade_id": "bmi-validate",
     "locked": true,
     "schema_version": 1,
     "solution": false
    }
   },
   "source": [
    "Test your code below.  The BMI for a weight of 90.7 kg and height of 182 cm should be approximately 27.38"
   ]
  },
  {
   "cell_type": "code",
   "execution_count": 128,
   "metadata": {},
   "outputs": [
    {
     "data": {
      "text/plain": [
       "27.38195870064002"
      ]
     },
     "execution_count": 128,
     "metadata": {},
     "output_type": "execute_result"
    }
   ],
   "source": [
    "bmi(90.7, 182)"
   ]
  },
  {
   "cell_type": "code",
   "execution_count": 129,
   "metadata": {
    "nbgrader": {
     "grade": true,
     "grade_id": "bmi-test",
     "locked": true,
     "points": 0,
     "schema_version": 1,
     "solution": false
    }
   },
   "outputs": [],
   "source": [
    "assert round(bmi(90.7, 182), 2) == 27.38\n",
    "assert round(bmi(91, 180), 2) == 28.09\n",
    "assert round(bmi(70, 170), 2) == 24.22"
   ]
  },
  {
   "cell_type": "code",
   "execution_count": null,
   "metadata": {
    "nbgrader": {
     "grade": true,
     "grade_id": "bmi-style",
     "locked": false,
     "points": 5,
     "schema_version": 1,
     "solution": true
    }
   },
   "outputs": [],
   "source": []
  },
  {
   "cell_type": "markdown",
   "metadata": {
    "nbgrader": {
     "grade": false,
     "grade_id": "weight",
     "locked": true,
     "schema_version": 1,
     "solution": false
    }
   },
   "source": [
    "### 5.3 BMI\n",
    "Assuming that someone doesn't change height over time, what is the approximate number of days it will take for someone to get from the BMI you found in #3 above to a BMI of 24.9 (typically regarded as being in a healthy range) while losing weight at a rate of 0.75 kg per week.\n",
    "\n",
    "As needed, use variables and multiple calculation steps to make your thought process visible in the code. For instance, rather than using the notebook as a calculator, use variables for intermediate answers.\n",
    "\n",
    "Again, you will receive points both for correct answers as well as for style.\n"
   ]
  },
  {
   "cell_type": "code",
   "execution_count": 132,
   "metadata": {
    "nbgrader": {
     "grade": false,
     "grade_id": "weight-answer",
     "locked": false,
     "schema_version": 1,
     "solution": true
    }
   },
   "outputs": [],
   "source": [
    "def lose_weight(weight, height, kg_per_week, target_bmi):\n",
    "    \n",
    "    # Note that the variables you need area already named for you:\n",
    "    # height is the height in cm\n",
    "    # weight is the weight in kg\n",
    "    # kg_per_week is how much the person wants to lose per week\n",
    "    # target_bmi is the intended target bmi\n",
    "    \n",
    "    ### BEGIN SOLUTION\n",
    "    target_weight = target_bmi*((height/100)**2)\n",
    "    days = (weight-target_weight)/(kg_per_week/7) \n",
    "    ### END SOLUTION\n",
    "    \n",
    "    return days"
   ]
  },
  {
   "cell_type": "markdown",
   "metadata": {},
   "source": [
    "Test your code below.  It should return approximately 76.73 days for the given parameters above."
   ]
  },
  {
   "cell_type": "code",
   "execution_count": 131,
   "metadata": {},
   "outputs": [
    {
     "data": {
      "text/plain": [
       "76.73157333333342"
      ]
     },
     "execution_count": 131,
     "metadata": {},
     "output_type": "execute_result"
    }
   ],
   "source": [
    "lose_weight(90.7, 182, 0.75, 24.9)"
   ]
  },
  {
   "cell_type": "code",
   "execution_count": 133,
   "metadata": {
    "nbgrader": {
     "grade": true,
     "grade_id": "weight-tests",
     "locked": true,
     "points": 5,
     "schema_version": 1,
     "solution": false
    }
   },
   "outputs": [],
   "source": [
    "assert round(lose_weight(90.7, 182, 0.75, 24.9),2) == 76.73\n",
    "assert round(lose_weight(91, 180, 0.75, 24.9),2) == 96.36\n",
    "assert round(lose_weight(70, 170, 0.75, 22),2) == 59.92\n",
    "assert round(lose_weight(70, 170, 2, 22),2) == 22.47"
   ]
  },
  {
   "cell_type": "code",
   "execution_count": null,
   "metadata": {},
   "outputs": [],
   "source": []
  }
 ],
 "metadata": {
  "celltoolbar": "Create Assignment",
  "kernelspec": {
   "display_name": "Python 3",
   "language": "python",
   "name": "python3"
  },
  "language_info": {
   "codemirror_mode": {
    "name": "ipython",
    "version": 3
   },
   "file_extension": ".py",
   "mimetype": "text/x-python",
   "name": "python",
   "nbconvert_exporter": "python",
   "pygments_lexer": "ipython3",
   "version": "3.6.7"
  }
 },
 "nbformat": 4,
 "nbformat_minor": 2
}
