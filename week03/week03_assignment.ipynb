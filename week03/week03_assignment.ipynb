{
 "cells": [
  {
   "cell_type": "markdown",
   "metadata": {
    "nbgrader": {
     "grade": false,
     "grade_id": "intro",
     "locked": true,
     "schema_version": 1,
     "solution": false
    }
   },
   "source": [
    "# Week 2 Exercises\n",
    "\n",
    "This week, in modules 9 through 14 we worked on understanding how to control the flow of code execution through things like loops (for, while, range) and conditions (if).  See what you learned."
   ]
  },
  {
   "cell_type": "markdown",
   "metadata": {},
   "source": [
    "### 9.1 - An IF statement in Python can:\n",
    "\n",
    "> A) Only perform one conditional test\n",
    ">\n",
    "> B) Returns the indented actions if the test is True, or None if it is not True\n",
    ">\n",
    "> C) Can contain as many branches of logic as the programmer wants\n",
    ">\n",
    "> D) Executes the next line of code only if the test is True, then moves to always execute the remaining code"
   ]
  },
  {
   "cell_type": "code",
   "execution_count": 175,
   "metadata": {},
   "outputs": [],
   "source": [
    "answer91 = \"C\""
   ]
  },
  {
   "cell_type": "markdown",
   "metadata": {},
   "source": [
    "### 9.2 - What will the following code print to the screen?\n",
    "\n",
    "```python\n",
    "age = 21\n",
    "\n",
    "if age > 18:\n",
    "    label = 'adult'\n",
    "label = 'kid'\n",
    "\n",
    "print(label)\n",
    "```\n",
    "\n",
    "> A) `kid`\n",
    ">\n",
    "> B) `adult`\n",
    ">\n",
    "> C) `adult` (new line) `kid`\n",
    ">\n",
    "> D) _nothing_"
   ]
  },
  {
   "cell_type": "code",
   "execution_count": 176,
   "metadata": {},
   "outputs": [],
   "source": [
    "answer92 = \"A\""
   ]
  },
  {
   "cell_type": "markdown",
   "metadata": {},
   "source": [
    "### 9.3 - What will the follow code print to the screen?\n",
    "\n",
    "```python\n",
    "temp = 22\n",
    "precipitation = 'wet'\n",
    "\n",
    "if precipitation != 'wet':\n",
    "    weather = 'dry'\n",
    "else:\n",
    "    if temp > 32:\n",
    "        weather = 'rain'\n",
    "    elif temp < 32:\n",
    "        weather = 'sleet'\n",
    "    elif temp < 28:\n",
    "        weather = 'mix'\n",
    "    else:\n",
    "        weather = 'snow'\n",
    "\n",
    "print(weather)\n",
    "```\n",
    "\n",
    "> A) `sleet`\n",
    ">\n",
    "> B) `mix`\n",
    ">\n",
    "> C) `now`\n",
    ">\n",
    "> D) `dry'"
   ]
  },
  {
   "cell_type": "code",
   "execution_count": 177,
   "metadata": {},
   "outputs": [],
   "source": [
    "answer93 = \"A\""
   ]
  },
  {
   "cell_type": "markdown",
   "metadata": {},
   "source": [
    "### 10.1 - How many times will the following code print the phrase 'Hello World!'?\n",
    "\n",
    "```python\n",
    "start = 1\n",
    "stop = 1000\n",
    "\n",
    "for num in range(start, stop):\n",
    "    print('Hello World!')\n",
    "    start = start + 5\n",
    "```\n",
    "\n",
    "> A) 200 times\n",
    ">\n",
    "> B) 199 times\n",
    ">\n",
    "> C) 999 times\n",
    ">\n",
    "> D) 201 times"
   ]
  },
  {
   "cell_type": "code",
   "execution_count": 178,
   "metadata": {},
   "outputs": [],
   "source": [
    "answer101 = \"C\""
   ]
  },
  {
   "cell_type": "markdown",
   "metadata": {},
   "source": [
    "### 10.2 - Which of these best describes how the `range` function works?\n",
    "\n",
    "> A) It generates a list of values that the for loop can then iterate over.\n",
    ">\n",
    "> B) It pre-generates the code required to execute the for loop according to the range() parameters\n",
    ">\n",
    "> C) If just runs the specified code as many times as necessary to create the right output.\n",
    ">\n",
    "> D) It returns an iterable object that returns the next value for each time through the loop.\n"
   ]
  },
  {
   "cell_type": "code",
   "execution_count": 179,
   "metadata": {},
   "outputs": [],
   "source": [
    "answer102 = \"A\""
   ]
  },
  {
   "cell_type": "markdown",
   "metadata": {},
   "source": [
    "### 11.1 - If you accidentally run an infine while loop in Jupyter:\n",
    "\n",
    "> A) Close the browser window and it will automatically stop.\n",
    ">\n",
    "> B) Interrupt or restart the kernel.\n",
    ">\n",
    "> C) You will overheat the server and burn it up.\n",
    ">\n",
    "> D) Slack the professor so that he can stop the loop for you."
   ]
  },
  {
   "cell_type": "code",
   "execution_count": 180,
   "metadata": {},
   "outputs": [],
   "source": [
    "answer111 = \"B\""
   ]
  },
  {
   "cell_type": "markdown",
   "metadata": {},
   "source": [
    "### 11.2 - What will the following code print to the screen?\n",
    "\n",
    "```python\n",
    "counter = 1\n",
    "\n",
    "while (counter < 10):\n",
    "    print(counter)\n",
    "    break\n",
    "```\n",
    "\n",
    "> A) `1`\n",
    ">\n",
    "> B) `1,2,3,4,5,6,7,8,9`\n",
    ">\n",
    "> C) `1,2,3,4,5,6,7,8,9,10`\n",
    ">\n",
    "> D) _nothing_"
   ]
  },
  {
   "cell_type": "code",
   "execution_count": 181,
   "metadata": {},
   "outputs": [],
   "source": [
    "answer112 = \"A\""
   ]
  },
  {
   "cell_type": "markdown",
   "metadata": {},
   "source": [
    "### 11.3 - What will the follow code do?\n",
    "\n",
    "```python\n",
    "status = True\n",
    "while (status):\n",
    "    status =  False\n",
    "while (status):\n",
    "    status = True\n",
    "    print(\"The status is now true\")\n",
    "```\n",
    "\n",
    "> A) Only the first line of code will execute\n",
    ">\n",
    "> B) The code will print 'The status is now true'\n",
    ">\n",
    "> C) The code will all run but nothing will print\n",
    ">\n",
    "> D) None of these"
   ]
  },
  {
   "cell_type": "code",
   "execution_count": 182,
   "metadata": {},
   "outputs": [],
   "source": [
    "answer113 = \"C\""
   ]
  },
  {
   "cell_type": "markdown",
   "metadata": {},
   "source": [
    "### 12.1 - Which of the following is **not** a correct statement about the `range` function?\n",
    "\n",
    "> A) `range()` always produces incrementing numbers\n",
    ">\n",
    "> B) `range()` doesn't actually create the whole list of output numbers all at once\n",
    ">\n",
    "> C) `range()` can only produce integer values\n",
    ">\n",
    "> D) `range()` can use negative numbers for start and end values"
   ]
  },
  {
   "cell_type": "code",
   "execution_count": 183,
   "metadata": {},
   "outputs": [],
   "source": [
    "answer121 = \"A\""
   ]
  },
  {
   "cell_type": "markdown",
   "metadata": {},
   "source": [
    "### 12.2 - How many numbers will the following code output?\n",
    "\n",
    "```python\n",
    "for value in range(-1,1,1):\n",
    "    print(value)\n",
    "```\n",
    "\n",
    "> A) _None_\n",
    ">\n",
    "> B) 1\n",
    ">\n",
    "> C) 2\n",
    ">\n",
    "> D) 3"
   ]
  },
  {
   "cell_type": "code",
   "execution_count": 184,
   "metadata": {},
   "outputs": [],
   "source": [
    "answer122 = \"C\""
   ]
  },
  {
   "cell_type": "markdown",
   "metadata": {},
   "source": [
    "### 12.3 - What is the last number this `range` call will produce?\n",
    "\n",
    "```python\n",
    "for value in range(8,10,-2):\n",
    "    print(value)\n",
    "```\n",
    "\n",
    "> A) 8\n",
    ">\n",
    "> B) 10\n",
    ">\n",
    "> C) 9\n",
    ">\n",
    "> D) _nothing_"
   ]
  },
  {
   "cell_type": "code",
   "execution_count": 185,
   "metadata": {},
   "outputs": [],
   "source": [
    "answer123 = \"D\""
   ]
  },
  {
   "cell_type": "markdown",
   "metadata": {},
   "source": [
    "### 13.1 - What is another name for the inline if statement?\n",
    "\n",
    "> A) Ternary operator\n",
    ">\n",
    "> B) Conditional\n",
    ">\n",
    "> C) Three-part if\n",
    ">\n",
    "> D) None of these"
   ]
  },
  {
   "cell_type": "code",
   "execution_count": 186,
   "metadata": {},
   "outputs": [],
   "source": [
    "answer131 = \"A\""
   ]
  },
  {
   "cell_type": "markdown",
   "metadata": {},
   "source": [
    "### 13.2 - What does this code output?\n",
    "\n",
    "```python\n",
    "age = 67\n",
    "gender = 'male'\n",
    "\n",
    "print(\n",
    "    ('young ' if age < 18 else ('retired ' if age > 65 else '')) + \n",
    "    ('lady' if gender == 'female' else 'guy')\n",
    ")\n",
    "```\n",
    "\n",
    "> A) `man`\n",
    ">\n",
    "> B) `retired guy`\n",
    ">\n",
    "> C) `retired`\n",
    ">\n",
    "> D) _nothing_"
   ]
  },
  {
   "cell_type": "code",
   "execution_count": 187,
   "metadata": {},
   "outputs": [],
   "source": [
    "answer132 = \"B\""
   ]
  },
  {
   "cell_type": "markdown",
   "metadata": {
    "nbgrader": {
     "grade": false,
     "grade_id": "average",
     "locked": true,
     "schema_version": 1,
     "solution": false
    }
   },
   "source": [
    "### 14.1 NAND\n",
    "\n",
    "Inside of computer chips, it's often easier to do a logical operation called NAND (not and).  Write a function that takes two boolean parameters and returns the NAND of those values.  Here is the k-map for NAND:\n",
    "\n",
    "```\n",
    "NAND: \n",
    "\n",
    "        TRUE   FALSE\n",
    "TRUE    False  True\n",
    "FALSE   True   True\n",
    "```\n"
   ]
  },
  {
   "cell_type": "code",
   "execution_count": 82,
   "metadata": {
    "nbgrader": {
     "grade": false,
     "grade_id": "average-answer",
     "locked": false,
     "schema_version": 1,
     "solution": true
    }
   },
   "outputs": [],
   "source": [
    "def nand(a, b):\n",
    "    if a == 1 and b == 1:\n",
    "        return False\n",
    "    else:\n",
    "        return True\n",
    "        \n",
    "    ### BEGIN SOLUTION\n",
    "    answer = None\n",
    "    ### END SOLUTION\n",
    "    \n",
    "    return answer"
   ]
  },
  {
   "cell_type": "code",
   "execution_count": 83,
   "metadata": {},
   "outputs": [
    {
     "data": {
      "text/plain": [
       "False"
      ]
     },
     "execution_count": 83,
     "metadata": {},
     "output_type": "execute_result"
    }
   ],
   "source": [
    "nand(1,1)"
   ]
  },
  {
   "cell_type": "code",
   "execution_count": 84,
   "metadata": {
    "nbgrader": {
     "grade": true,
     "grade_id": "average-tests",
     "locked": true,
     "points": 5,
     "schema_version": 1,
     "solution": false
    }
   },
   "outputs": [],
   "source": [
    "assert nand(True, True) == False\n",
    "assert nand(True, False) == True\n",
    "assert nand(False, True) == True\n",
    "assert nand(False, False) == True"
   ]
  },
  {
   "cell_type": "markdown",
   "metadata": {
    "nbgrader": {
     "grade": false,
     "grade_id": "bmi",
     "locked": true,
     "schema_version": 1,
     "solution": false
    }
   },
   "source": [
    "### 14.2 LACE Score\n",
    "There is a simple readmission index called the LACE Score: https://www.hindawi.com/journals/bmri/2015/169870/tab1/\n",
    "\n",
    "Use this documentation to create a function that can compute LACE scores based on the 4 input parameters.  Below is the function signature and documentation that you start with."
   ]
  },
  {
   "cell_type": "code",
   "execution_count": 127,
   "metadata": {},
   "outputs": [],
   "source": [
    "def LOS_score(length_of_stay):\n",
    "        if length_of_stay < 1:\n",
    "            return 0\n",
    "        elif length_of_stay == 1:\n",
    "            return 1\n",
    "        elif length_of_stay == 2:\n",
    "            return 2\n",
    "        elif length_of_stay == 3:\n",
    "            return 3\n",
    "        elif length_of_stay >= 4:\n",
    "            return 4\n",
    "        elif length_of_stay >= 7:\n",
    "            return 5\n",
    "        else:\n",
    "            return 7\n",
    "        \n",
    "def acute_flag_score(acute_flag):\n",
    "        if acute_flag:\n",
    "            return 3\n",
    "        else:\n",
    "            return 0 \n",
    "    \n",
    "def charlson_score(charlson):\n",
    "        if charlson == 0:\n",
    "            return 0\n",
    "        elif charlson == 1:\n",
    "            return 1\n",
    "        elif charlson == 2:\n",
    "            return 2\n",
    "        elif charlson == 3:\n",
    "            return 3\n",
    "        else:\n",
    "            return 5\n",
    "    \n",
    "def ed_visits_score(ed_visits):\n",
    "        if ed_visits == 0:\n",
    "            return 0\n",
    "        elif ed_visits == 1:\n",
    "            return 1\n",
    "        elif ed_visits == 2:\n",
    "            return 2\n",
    "        elif ed_visits == 3:\n",
    "            return 3\n",
    "        else:\n",
    "            return 4\n",
    "        "
   ]
  },
  {
   "cell_type": "code",
   "execution_count": 128,
   "metadata": {
    "nbgrader": {
     "grade": false,
     "grade_id": "bmi-answer",
     "locked": false,
     "schema_version": 1,
     "solution": true
    }
   },
   "outputs": [],
   "source": [
    "def LACE(length_of_stay, acute_flag, charlson, ed_visits):\n",
    "    \n",
    "    \"\"\"(int, bool, int, int) -> int\n",
    "    This function uses the logic from https://www.hindawi.com/journals/bmri/2015/169870/tab1/\n",
    "    to compute the LACE score for this patient.\n",
    "    \n",
    "    >>> LACE(4, False, 1, 0)\n",
    "    5\n",
    "    \n",
    "    >>> LACE(4, True, 4, 7)\n",
    "    16\n",
    "    \n",
    "    \"\"\"\n",
    "    ### BEGIN SOLUTION\n",
    "    \n",
    "    score = LOS_score(length_of_stay) + \\\n",
    "        acute_flag_score(acute_flag) + \\\n",
    "        charlson_score(charlson) + \\\n",
    "        ed_visits_score(ed_visits)\n",
    "    \n",
    "    ### END SOLUTION\n",
    "    \n",
    "    return score"
   ]
  },
  {
   "cell_type": "code",
   "execution_count": 129,
   "metadata": {},
   "outputs": [
    {
     "data": {
      "text/plain": [
       "5"
      ]
     },
     "execution_count": 129,
     "metadata": {},
     "output_type": "execute_result"
    }
   ],
   "source": [
    "LACE(4, False, 1, 0)"
   ]
  },
  {
   "cell_type": "code",
   "execution_count": 130,
   "metadata": {},
   "outputs": [
    {
     "data": {
      "text/plain": [
       "16"
      ]
     },
     "execution_count": 130,
     "metadata": {},
     "output_type": "execute_result"
    }
   ],
   "source": [
    "LACE(4, True, 4, 7)"
   ]
  },
  {
   "cell_type": "code",
   "execution_count": 131,
   "metadata": {
    "nbgrader": {
     "grade": true,
     "grade_id": "bmi-test",
     "locked": true,
     "points": 10,
     "schema_version": 1,
     "solution": false
    }
   },
   "outputs": [],
   "source": [
    "assert LACE(4, False, 1, 0) == 5\n",
    "assert LACE(4, True, 4, 7) == 16"
   ]
  },
  {
   "cell_type": "markdown",
   "metadata": {
    "nbgrader": {
     "grade": false,
     "grade_id": "weight",
     "locked": true,
     "schema_version": 1,
     "solution": false
    }
   },
   "source": [
    "### 14.3 Care Management Criteria\n",
    "\n",
    "Care managers use LACE as part of the criteria for assigning a care coodinator to a patient who has been recently discharged. If the score is above 10, then a care coordinator will be assigned. The other criteria they use is if the patient has been discharged with a diagnosis of CHF or COPD.  If the diagnosis field has CHF or COPD in it, then the patient will have a care coordinator assigned.\n",
    "\n",
    "For this exercise, write another function that takes the same inputs as LACE() plus another diagnosis parameter, and return True or False depending on if the paient needs a care coordinator.\n",
    "\n",
    "**NOTE** Pay attention to the fact that the order of parameters in this function definition are not the same as the order they were in the LACE score.  "
   ]
  },
  {
   "cell_type": "code",
   "execution_count": 286,
   "metadata": {},
   "outputs": [],
   "source": [
    "def diagnosis_cd_score(diagnosis_cd):\n",
    "        if diagnosis_cd == \"CHF\":\n",
    "            return \"CHF\"\n",
    "        elif diagnosis_cd == \"COPD\": \n",
    "            return \"COPD\"\n",
    "        else:\n",
    "            return \"None\"\n",
    "        \n",
    "def ed_visits_score(ed_visits):\n",
    "        if ed_visits == 0:\n",
    "            return 0\n",
    "        elif ed_visits == 1:\n",
    "            return 1\n",
    "        elif ed_visits == 2:\n",
    "            return 2\n",
    "        elif ed_visits == 3:\n",
    "            return 3\n",
    "        else:\n",
    "            return 4\n",
    "        \n",
    "def LOS_score(length_of_stay):\n",
    "        if length_of_stay < 1:\n",
    "            return 0\n",
    "        elif length_of_stay == 1:\n",
    "            return 1\n",
    "        elif length_of_stay == 2:\n",
    "            return 2\n",
    "        elif length_of_stay == 3:\n",
    "            return 3\n",
    "        elif length_of_stay >= 4:\n",
    "            return 4\n",
    "        elif length_of_stay >= 7:\n",
    "            return 5\n",
    "        else:\n",
    "            return 7\n",
    "        \n",
    "def acute_flag_score(acute_flag):\n",
    "        if acute_flag:\n",
    "            return 3\n",
    "        else:\n",
    "            return 0 \n",
    "    \n",
    "def charlson_score(charlson):\n",
    "        if charlson == 0:\n",
    "            return 0\n",
    "        elif charlson == 1:\n",
    "            return 1\n",
    "        elif charlson == 2:\n",
    "            return 2\n",
    "        elif charlson == 3:\n",
    "            return 3\n",
    "        else:\n",
    "            return 5\n",
    "        "
   ]
  },
  {
   "cell_type": "code",
   "execution_count": 329,
   "metadata": {
    "nbgrader": {
     "grade": false,
     "grade_id": "weight-answer",
     "locked": false,
     "schema_version": 1,
     "solution": true
    }
   },
   "outputs": [],
   "source": [
    "def assign_care_coordinator(diagnosis_cd, ed_visits, length_of_stay, acute_flag, charlson):    \n",
    "    if (ed_visits + length_of_stay + acute_flag + charlson) > 10:\n",
    "        return True\n",
    "    elif diagnosis_cd == \"None\":\n",
    "        return False\n",
    "    elif diagnosis_cd == \"CHF\":\n",
    "        return True\n",
    "    elif diagnosis_cd == \"COPD\":\n",
    "        return True\n",
    "    else:\n",
    "        return none\n",
    "    \n",
    "    \n",
    "    ### BEGIN SOLUTION\n",
    "        assignment = None\n",
    "    ### END SOLUTION\n",
    "        \n",
    "        return assignment\n",
    "    "
   ]
  },
  {
   "cell_type": "code",
   "execution_count": 331,
   "metadata": {},
   "outputs": [
    {
     "data": {
      "text/plain": [
       "False"
      ]
     },
     "execution_count": 331,
     "metadata": {},
     "output_type": "execute_result"
    }
   ],
   "source": [
    "assign_care_coordinator('None', 0, 4, False, 1)"
   ]
  },
  {
   "cell_type": "code",
   "execution_count": 332,
   "metadata": {},
   "outputs": [
    {
     "data": {
      "text/plain": [
       "True"
      ]
     },
     "execution_count": 332,
     "metadata": {},
     "output_type": "execute_result"
    }
   ],
   "source": [
    "assign_care_coordinator('CHF', 0, 4, False, 1)"
   ]
  },
  {
   "cell_type": "code",
   "execution_count": 333,
   "metadata": {},
   "outputs": [
    {
     "data": {
      "text/plain": [
       "True"
      ]
     },
     "execution_count": 333,
     "metadata": {},
     "output_type": "execute_result"
    }
   ],
   "source": [
    "assign_care_coordinator('COPD', 0, 4, False, 1)"
   ]
  },
  {
   "cell_type": "code",
   "execution_count": 334,
   "metadata": {},
   "outputs": [
    {
     "data": {
      "text/plain": [
       "True"
      ]
     },
     "execution_count": 334,
     "metadata": {},
     "output_type": "execute_result"
    }
   ],
   "source": [
    "assign_care_coordinator('None', 7, 4, True, 4)"
   ]
  },
  {
   "cell_type": "code",
   "execution_count": 335,
   "metadata": {},
   "outputs": [
    {
     "data": {
      "text/plain": [
       "True"
      ]
     },
     "execution_count": 335,
     "metadata": {},
     "output_type": "execute_result"
    }
   ],
   "source": [
    "assign_care_coordinator('CHF', 7, 4, True, 4)"
   ]
  },
  {
   "cell_type": "code",
   "execution_count": 330,
   "metadata": {
    "nbgrader": {
     "grade": true,
     "grade_id": "weight-tests",
     "locked": true,
     "points": 5,
     "schema_version": 1,
     "solution": false
    }
   },
   "outputs": [],
   "source": [
    "assert assign_care_coordinator('None', 0, 4, False, 1) == False\n",
    "assert assign_care_coordinator('CHF', 0, 4, False, 1) == True\n",
    "assert assign_care_coordinator('COPD', 0, 4, False, 1) == True\n",
    "assert assign_care_coordinator('None', 7, 4, True, 4) == True\n",
    "assert assign_care_coordinator('CHF', 7, 4, True, 4) == True"
   ]
  }
 ],
 "metadata": {
  "celltoolbar": "Create Assignment",
  "kernelspec": {
   "display_name": "Python 3",
   "language": "python",
   "name": "python3"
  },
  "language_info": {
   "codemirror_mode": {
    "name": "ipython",
    "version": 3
   },
   "file_extension": ".py",
   "mimetype": "text/x-python",
   "name": "python",
   "nbconvert_exporter": "python",
   "pygments_lexer": "ipython3",
   "version": "3.6.7"
  }
 },
 "nbformat": 4,
 "nbformat_minor": 2
}
